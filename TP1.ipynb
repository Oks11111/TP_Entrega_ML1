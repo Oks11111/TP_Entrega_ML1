{
 "cells": [
  {
   "cell_type": "markdown",
   "metadata": {},
   "source": [
    "#### Se importan las librerias"
   ]
  },
  {
   "cell_type": "code",
   "execution_count": 48,
   "metadata": {},
   "outputs": [],
   "source": [
    "import pandas as pd\n",
    "import numpy as np\n",
    "from sklearn.svm import SVC\n",
    "import matplotlib.pyplot as plt\n",
    "import seaborn as sns\n",
    "from sklearn.metrics import (precision_recall_curve,\n",
    "                              PrecisionRecallDisplay)\n",
    "from sklearn.model_selection import train_test_split\n",
    "from sklearn.preprocessing import StandardScaler\n",
    "from sklearn.ensemble import RandomForestClassifier\n",
    "from sklearn.svm import SVC\n",
    "from sklearn.tree import DecisionTreeClassifier\n",
    "from sklearn.ensemble import RandomForestClassifier, AdaBoostClassifier\n",
    "import sklearn.metrics as metrics\n",
    "from sklearn.model_selection import KFold\n",
    "from sklearn.model_selection import GridSearchCV\n",
    "from sklearn.model_selection import cross_val_score\n",
    "from sklearn.linear_model import LogisticRegression\n",
    "from sklearn.metrics import classification_report\n",
    "from sklearn.metrics import confusion_matrix, accuracy_score, roc_auc_score, plot_roc_curve"
   ]
  },
  {
   "cell_type": "markdown",
   "metadata": {},
   "source": [
    "#### Se importa el dataset de fraudes con las siguientes columnas\n",
    "\n",
    "* Step: representa una unidad de tiempo donde 1 step equivale a 1 hora\n",
    "* type: tipo de transacción en línea\n",
    "* amount: el importe de la transacción\n",
    "* nameOrig: cliente que inicia la transacción\n",
    "* oldbalanceOrg: saldo antes de la transacción\n",
    "* newbalanceOrig: saldo después de la transacción\n",
    "* nameDest: destinatario de la transacción\n",
    "* oldbalanceDest: saldo inicial del destinatario antes de la transacción\n",
    "* newbalanceDest: el nuevo saldo del destinatario después de la transacción\n",
    "* isFraud: transacción fraudulenta"
   ]
  },
  {
   "cell_type": "code",
   "execution_count": 2,
   "metadata": {},
   "outputs": [],
   "source": [
    "DATASET_PATH = r\"C:\\Users\\54922\\GITHUB\\TP_entrega_AM1\\Tp1\\fraude.csv\"\n",
    "dataset = pd.read_csv(DATASET_PATH)\n",
    "dataset_=dataset.copy().drop(columns={\"isFlaggedFraud\"}) #se copia el dataset y se dropea la columna isFlaggedFraud, ya que no se utilizrá\n"
   ]
  },
  {
   "cell_type": "markdown",
   "metadata": {},
   "source": [
    "##### Se han considerado tres opciones de balanceo: \n",
    "\n",
    "> * Balanceo de \"isFraud\" mediante subsampling, sin tomar tipo de transferencia y utilizando balanceo adicional dentro de modelo. Score alcanzado superior a 0.9\n",
    "> * Balanceo de \"isFraud\" en las dos operaciones afectadas por el fraude (cash_out y transferencia), descartando las demas operaciones. Score alcanzado inferior entorno de 0.73 en todos los modelos\n",
    "> * Balanceo de \"isFraud\" en las operaciones afectadas por el fraude y balanceo entre las operaciones en cantidad de transacciones. Score alcanzado inferior a 0.9\n",
    "\n",
    "A partir de estas pruebas se decide a proseguir con la primer opción. Para simplificar la notebook, es la opción que será presentada.\n",
    " \n",
    "\n",
    "De los metodos random forest, decision tree, scv, logistic regression, el mejor desempeño se obtubo con SCV con las metricas superiores a 0.9.\n",
    "\n"
   ]
  },
  {
   "cell_type": "markdown",
   "metadata": {},
   "source": [
    "#### Se vizualiza el dataset y las estadisticas basicas"
   ]
  },
  {
   "cell_type": "code",
   "execution_count": 3,
   "metadata": {},
   "outputs": [
    {
     "data": {
      "text/html": [
       "<div>\n",
       "<style scoped>\n",
       "    .dataframe tbody tr th:only-of-type {\n",
       "        vertical-align: middle;\n",
       "    }\n",
       "\n",
       "    .dataframe tbody tr th {\n",
       "        vertical-align: top;\n",
       "    }\n",
       "\n",
       "    .dataframe thead th {\n",
       "        text-align: right;\n",
       "    }\n",
       "</style>\n",
       "<table border=\"1\" class=\"dataframe\">\n",
       "  <thead>\n",
       "    <tr style=\"text-align: right;\">\n",
       "      <th></th>\n",
       "      <th>step</th>\n",
       "      <th>type</th>\n",
       "      <th>amount</th>\n",
       "      <th>nameOrig</th>\n",
       "      <th>oldbalanceOrg</th>\n",
       "      <th>newbalanceOrig</th>\n",
       "      <th>nameDest</th>\n",
       "      <th>oldbalanceDest</th>\n",
       "      <th>newbalanceDest</th>\n",
       "      <th>isFraud</th>\n",
       "    </tr>\n",
       "  </thead>\n",
       "  <tbody>\n",
       "    <tr>\n",
       "      <th>0</th>\n",
       "      <td>1</td>\n",
       "      <td>PAYMENT</td>\n",
       "      <td>9839.64</td>\n",
       "      <td>C1231006815</td>\n",
       "      <td>170136.0</td>\n",
       "      <td>160296.36</td>\n",
       "      <td>M1979787155</td>\n",
       "      <td>0.0</td>\n",
       "      <td>0.0</td>\n",
       "      <td>0</td>\n",
       "    </tr>\n",
       "    <tr>\n",
       "      <th>1</th>\n",
       "      <td>1</td>\n",
       "      <td>PAYMENT</td>\n",
       "      <td>1864.28</td>\n",
       "      <td>C1666544295</td>\n",
       "      <td>21249.0</td>\n",
       "      <td>19384.72</td>\n",
       "      <td>M2044282225</td>\n",
       "      <td>0.0</td>\n",
       "      <td>0.0</td>\n",
       "      <td>0</td>\n",
       "    </tr>\n",
       "    <tr>\n",
       "      <th>2</th>\n",
       "      <td>1</td>\n",
       "      <td>TRANSFER</td>\n",
       "      <td>181.00</td>\n",
       "      <td>C1305486145</td>\n",
       "      <td>181.0</td>\n",
       "      <td>0.00</td>\n",
       "      <td>C553264065</td>\n",
       "      <td>0.0</td>\n",
       "      <td>0.0</td>\n",
       "      <td>1</td>\n",
       "    </tr>\n",
       "    <tr>\n",
       "      <th>3</th>\n",
       "      <td>1</td>\n",
       "      <td>CASH_OUT</td>\n",
       "      <td>181.00</td>\n",
       "      <td>C840083671</td>\n",
       "      <td>181.0</td>\n",
       "      <td>0.00</td>\n",
       "      <td>C38997010</td>\n",
       "      <td>21182.0</td>\n",
       "      <td>0.0</td>\n",
       "      <td>1</td>\n",
       "    </tr>\n",
       "    <tr>\n",
       "      <th>4</th>\n",
       "      <td>1</td>\n",
       "      <td>PAYMENT</td>\n",
       "      <td>11668.14</td>\n",
       "      <td>C2048537720</td>\n",
       "      <td>41554.0</td>\n",
       "      <td>29885.86</td>\n",
       "      <td>M1230701703</td>\n",
       "      <td>0.0</td>\n",
       "      <td>0.0</td>\n",
       "      <td>0</td>\n",
       "    </tr>\n",
       "  </tbody>\n",
       "</table>\n",
       "</div>"
      ],
      "text/plain": [
       "   step      type    amount     nameOrig  oldbalanceOrg  newbalanceOrig  \\\n",
       "0     1   PAYMENT   9839.64  C1231006815       170136.0       160296.36   \n",
       "1     1   PAYMENT   1864.28  C1666544295        21249.0        19384.72   \n",
       "2     1  TRANSFER    181.00  C1305486145          181.0            0.00   \n",
       "3     1  CASH_OUT    181.00   C840083671          181.0            0.00   \n",
       "4     1   PAYMENT  11668.14  C2048537720        41554.0        29885.86   \n",
       "\n",
       "      nameDest  oldbalanceDest  newbalanceDest  isFraud  \n",
       "0  M1979787155             0.0             0.0        0  \n",
       "1  M2044282225             0.0             0.0        0  \n",
       "2   C553264065             0.0             0.0        1  \n",
       "3    C38997010         21182.0             0.0        1  \n",
       "4  M1230701703             0.0             0.0        0  "
      ]
     },
     "execution_count": 3,
     "metadata": {},
     "output_type": "execute_result"
    }
   ],
   "source": [
    "dataset_.head(5) #se visualiza el dataset"
   ]
  },
  {
   "cell_type": "code",
   "execution_count": 4,
   "metadata": {},
   "outputs": [
    {
     "name": "stdout",
     "output_type": "stream",
     "text": [
      "<class 'pandas.core.frame.DataFrame'>\n",
      "RangeIndex: 6362620 entries, 0 to 6362619\n",
      "Data columns (total 10 columns):\n",
      " #   Column          Dtype  \n",
      "---  ------          -----  \n",
      " 0   step            int64  \n",
      " 1   type            object \n",
      " 2   amount          float64\n",
      " 3   nameOrig        object \n",
      " 4   oldbalanceOrg   float64\n",
      " 5   newbalanceOrig  float64\n",
      " 6   nameDest        object \n",
      " 7   oldbalanceDest  float64\n",
      " 8   newbalanceDest  float64\n",
      " 9   isFraud         int64  \n",
      "dtypes: float64(5), int64(2), object(3)\n",
      "memory usage: 485.4+ MB\n"
     ]
    }
   ],
   "source": [
    "dataset_.info() #se verifica tipo de variable, se tendrá que prestar atención a\n",
    "# las que aparecen en formato object, categoricas y verificar que las demas \n",
    "# corresponden a formato integer o float"
   ]
  },
  {
   "cell_type": "code",
   "execution_count": 5,
   "metadata": {},
   "outputs": [
    {
     "name": "stderr",
     "output_type": "stream",
     "text": [
      "C:\\Users\\54922\\AppData\\Local\\Temp/ipykernel_16308/991500641.py:4: FutureWarning: Dropping of nuisance columns in DataFrame reductions (with 'numeric_only=None') is deprecated; in a future version this will raise TypeError.  Select only valid columns before calling the reduction.\n",
      "  print(\"Mediana \\n\",dataset_.median())\n"
     ]
    },
    {
     "name": "stdout",
     "output_type": "stream",
     "text": [
      "Mediana \n",
      " step                 239.000\n",
      "amount             74871.940\n",
      "oldbalanceOrg      14208.000\n",
      "newbalanceOrig         0.000\n",
      "oldbalanceDest    132705.665\n",
      "newbalanceDest    214661.440\n",
      "isFraud                0.000\n",
      "dtype: float64\n"
     ]
    },
    {
     "data": {
      "text/html": [
       "<div>\n",
       "<style scoped>\n",
       "    .dataframe tbody tr th:only-of-type {\n",
       "        vertical-align: middle;\n",
       "    }\n",
       "\n",
       "    .dataframe tbody tr th {\n",
       "        vertical-align: top;\n",
       "    }\n",
       "\n",
       "    .dataframe thead th {\n",
       "        text-align: right;\n",
       "    }\n",
       "</style>\n",
       "<table border=\"1\" class=\"dataframe\">\n",
       "  <thead>\n",
       "    <tr style=\"text-align: right;\">\n",
       "      <th></th>\n",
       "      <th>step</th>\n",
       "      <th>amount</th>\n",
       "      <th>oldbalanceOrg</th>\n",
       "      <th>newbalanceOrig</th>\n",
       "      <th>oldbalanceDest</th>\n",
       "      <th>newbalanceDest</th>\n",
       "      <th>isFraud</th>\n",
       "    </tr>\n",
       "  </thead>\n",
       "  <tbody>\n",
       "    <tr>\n",
       "      <th>count</th>\n",
       "      <td>6.362620e+06</td>\n",
       "      <td>6.362620e+06</td>\n",
       "      <td>6.362620e+06</td>\n",
       "      <td>6.362620e+06</td>\n",
       "      <td>6.362620e+06</td>\n",
       "      <td>6.362620e+06</td>\n",
       "      <td>6.362620e+06</td>\n",
       "    </tr>\n",
       "    <tr>\n",
       "      <th>mean</th>\n",
       "      <td>2.433972e+02</td>\n",
       "      <td>1.798619e+05</td>\n",
       "      <td>8.338831e+05</td>\n",
       "      <td>8.551137e+05</td>\n",
       "      <td>1.100702e+06</td>\n",
       "      <td>1.224996e+06</td>\n",
       "      <td>1.290820e-03</td>\n",
       "    </tr>\n",
       "    <tr>\n",
       "      <th>std</th>\n",
       "      <td>1.423320e+02</td>\n",
       "      <td>6.038582e+05</td>\n",
       "      <td>2.888243e+06</td>\n",
       "      <td>2.924049e+06</td>\n",
       "      <td>3.399180e+06</td>\n",
       "      <td>3.674129e+06</td>\n",
       "      <td>3.590480e-02</td>\n",
       "    </tr>\n",
       "    <tr>\n",
       "      <th>min</th>\n",
       "      <td>1.000000e+00</td>\n",
       "      <td>0.000000e+00</td>\n",
       "      <td>0.000000e+00</td>\n",
       "      <td>0.000000e+00</td>\n",
       "      <td>0.000000e+00</td>\n",
       "      <td>0.000000e+00</td>\n",
       "      <td>0.000000e+00</td>\n",
       "    </tr>\n",
       "    <tr>\n",
       "      <th>25%</th>\n",
       "      <td>1.560000e+02</td>\n",
       "      <td>1.338957e+04</td>\n",
       "      <td>0.000000e+00</td>\n",
       "      <td>0.000000e+00</td>\n",
       "      <td>0.000000e+00</td>\n",
       "      <td>0.000000e+00</td>\n",
       "      <td>0.000000e+00</td>\n",
       "    </tr>\n",
       "    <tr>\n",
       "      <th>50%</th>\n",
       "      <td>2.390000e+02</td>\n",
       "      <td>7.487194e+04</td>\n",
       "      <td>1.420800e+04</td>\n",
       "      <td>0.000000e+00</td>\n",
       "      <td>1.327057e+05</td>\n",
       "      <td>2.146614e+05</td>\n",
       "      <td>0.000000e+00</td>\n",
       "    </tr>\n",
       "    <tr>\n",
       "      <th>75%</th>\n",
       "      <td>3.350000e+02</td>\n",
       "      <td>2.087215e+05</td>\n",
       "      <td>1.073152e+05</td>\n",
       "      <td>1.442584e+05</td>\n",
       "      <td>9.430367e+05</td>\n",
       "      <td>1.111909e+06</td>\n",
       "      <td>0.000000e+00</td>\n",
       "    </tr>\n",
       "    <tr>\n",
       "      <th>max</th>\n",
       "      <td>7.430000e+02</td>\n",
       "      <td>9.244552e+07</td>\n",
       "      <td>5.958504e+07</td>\n",
       "      <td>4.958504e+07</td>\n",
       "      <td>3.560159e+08</td>\n",
       "      <td>3.561793e+08</td>\n",
       "      <td>1.000000e+00</td>\n",
       "    </tr>\n",
       "  </tbody>\n",
       "</table>\n",
       "</div>"
      ],
      "text/plain": [
       "               step        amount  oldbalanceOrg  newbalanceOrig  \\\n",
       "count  6.362620e+06  6.362620e+06   6.362620e+06    6.362620e+06   \n",
       "mean   2.433972e+02  1.798619e+05   8.338831e+05    8.551137e+05   \n",
       "std    1.423320e+02  6.038582e+05   2.888243e+06    2.924049e+06   \n",
       "min    1.000000e+00  0.000000e+00   0.000000e+00    0.000000e+00   \n",
       "25%    1.560000e+02  1.338957e+04   0.000000e+00    0.000000e+00   \n",
       "50%    2.390000e+02  7.487194e+04   1.420800e+04    0.000000e+00   \n",
       "75%    3.350000e+02  2.087215e+05   1.073152e+05    1.442584e+05   \n",
       "max    7.430000e+02  9.244552e+07   5.958504e+07    4.958504e+07   \n",
       "\n",
       "       oldbalanceDest  newbalanceDest       isFraud  \n",
       "count    6.362620e+06    6.362620e+06  6.362620e+06  \n",
       "mean     1.100702e+06    1.224996e+06  1.290820e-03  \n",
       "std      3.399180e+06    3.674129e+06  3.590480e-02  \n",
       "min      0.000000e+00    0.000000e+00  0.000000e+00  \n",
       "25%      0.000000e+00    0.000000e+00  0.000000e+00  \n",
       "50%      1.327057e+05    2.146614e+05  0.000000e+00  \n",
       "75%      9.430367e+05    1.111909e+06  0.000000e+00  \n",
       "max      3.560159e+08    3.561793e+08  1.000000e+00  "
      ]
     },
     "execution_count": 5,
     "metadata": {},
     "output_type": "execute_result"
    }
   ],
   "source": [
    "#Calculamos mediana y usamos describe para visualizar min, max, media, desvio estandar y cuartiles\n",
    "#Según la mediana y cuartiles, el origen de transacciones suele tener nuevo balance cercano a valores nulos.\n",
    "# El flag de graude (1) no es un valor predominante\n",
    "print(\"Mediana \\n\",dataset_.median())\n",
    "dataset_.describe()"
   ]
  },
  {
   "cell_type": "code",
   "execution_count": 6,
   "metadata": {},
   "outputs": [
    {
     "name": "stdout",
     "output_type": "stream",
     "text": [
      "mediana: 441423.44\n"
     ]
    },
    {
     "data": {
      "text/plain": [
       "count    8.213000e+03\n",
       "mean     1.467967e+06\n",
       "std      2.404253e+06\n",
       "min      0.000000e+00\n",
       "25%      1.270913e+05\n",
       "50%      4.414234e+05\n",
       "75%      1.517771e+06\n",
       "max      1.000000e+07\n",
       "Name: amount, dtype: float64"
      ]
     },
     "execution_count": 6,
     "metadata": {},
     "output_type": "execute_result"
    }
   ],
   "source": [
    "#veamos estadisticas de aquellas transacciones que fueron calificadas como fraude, podemos observar que \n",
    "# la regla es que los montos son relativamente mas grandes, \n",
    "# tanto en media como en mediana y ademas existen montos nulos\n",
    "print(\"mediana:\",dataset_[\"amount\"][dataset_[\"isFraud\"]==1].median())\n",
    "dataset_[\"amount\"][dataset_[\"isFraud\"]==1].describe()"
   ]
  },
  {
   "cell_type": "code",
   "execution_count": 7,
   "metadata": {},
   "outputs": [
    {
     "name": "stdout",
     "output_type": "stream",
     "text": [
      "mediana: 74684.72\n"
     ]
    },
    {
     "data": {
      "text/plain": [
       "count    6.354407e+06\n",
       "mean     1.781970e+05\n",
       "std      5.962370e+05\n",
       "min      1.000000e-02\n",
       "25%      1.336840e+04\n",
       "50%      7.468472e+04\n",
       "75%      2.083648e+05\n",
       "max      9.244552e+07\n",
       "Name: amount, dtype: float64"
      ]
     },
     "execution_count": 7,
     "metadata": {},
     "output_type": "execute_result"
    }
   ],
   "source": [
    "print(\"mediana:\",dataset_[\"amount\"][dataset_[\"isFraud\"]!=1].median())\n",
    "dataset_[\"amount\"][dataset_[\"isFraud\"]!=1].describe()"
   ]
  },
  {
   "cell_type": "code",
   "execution_count": 8,
   "metadata": {},
   "outputs": [
    {
     "name": "stdout",
     "output_type": "stream",
     "text": [
      "Porcentaje de fraude en total de operaciones: 0.129248881917699\n"
     ]
    }
   ],
   "source": [
    "print(\"Porcentaje de fraude en total de operaciones:\",(len(dataset_[\"amount\"][dataset_[\"isFraud\"]==1])/len(dataset_[\"amount\"][dataset_[\"isFraud\"]!=1]))*100)"
   ]
  },
  {
   "cell_type": "code",
   "execution_count": 9,
   "metadata": {},
   "outputs": [
    {
     "data": {
      "text/plain": [
       "Text(0, 0.5, 'isFraud')"
      ]
     },
     "execution_count": 9,
     "metadata": {},
     "output_type": "execute_result"
    },
    {
     "data": {
      "image/png": "[encoded data removed]",
      "text/plain": [
       "<Figure size 432x288 with 1 Axes>"
      ]
     },
     "metadata": {
      "needs_background": "light"
     },
     "output_type": "display_data"
    }
   ],
   "source": [
    "# Graficando las operaciones versus fraude detectado, se puede ver que, como de esperarse, \n",
    "# los fraudes son cometidos en la operacion de transferencia y operacion de extraccion\n",
    "plt.scatter(x='type',y='isFraud',data=dataset_)\n",
    "plt.xlabel('type')\n",
    "plt.ylabel('isFraud')"
   ]
  },
  {
   "cell_type": "code",
   "execution_count": 10,
   "metadata": {},
   "outputs": [
    {
     "data": {
      "text/plain": [
       "<AxesSubplot:xlabel='type', ylabel='count'>"
      ]
     },
     "execution_count": 10,
     "metadata": {},
     "output_type": "execute_result"
    },
    {
     "data": {
      "image/png": "[encoded data removed]",
      "text/plain": [
       "<Figure size 432x288 with 1 Axes>"
      ]
     },
     "metadata": {
      "needs_background": "light"
     },
     "output_type": "display_data"
    }
   ],
   "source": [
    "#Type está desbalanceado\n",
    "sns.countplot(x='type',data=dataset_)"
   ]
  },
  {
   "cell_type": "markdown",
   "metadata": {},
   "source": [
    "#### Vamos a verificar el balanceo de dataset y corregir"
   ]
  },
  {
   "cell_type": "code",
   "execution_count": 11,
   "metadata": {},
   "outputs": [
    {
     "name": "stdout",
     "output_type": "stream",
     "text": [
      "0    6354407\n",
      "1       8213\n",
      "Name: isFraud, dtype: int64\n"
     ]
    }
   ],
   "source": [
    "#Dataset desbalanceado en la variable objetivo\n",
    "print(pd.value_counts(dataset_[\"isFraud\"]))"
   ]
  },
  {
   "cell_type": "code",
   "execution_count": 12,
   "metadata": {},
   "outputs": [
    {
     "name": "stdout",
     "output_type": "stream",
     "text": [
      "CASH_OUT    2237500\n",
      "PAYMENT     2151495\n",
      "CASH_IN     1399284\n",
      "TRANSFER     532909\n",
      "DEBIT         41432\n",
      "Name: type, dtype: int64\n"
     ]
    }
   ],
   "source": [
    "#Veamos la cantidad de operaciones por tipo de operación, \n",
    "# podemos ver que el dataset se encuentra desbalanceado en cuanto a tipo de operación.\n",
    "print(pd.value_counts(dataset_[\"type\"]))"
   ]
  },
  {
   "cell_type": "code",
   "execution_count": 13,
   "metadata": {},
   "outputs": [
    {
     "name": "stdout",
     "output_type": "stream",
     "text": [
      "Fraudes detectados: 8213\n"
     ]
    }
   ],
   "source": [
    "# Vamos a separar el dataset en operaciones fraudulentas y las que no lo son,\n",
    "#  por el momento no tomamos en cuenta el balanceo de tipo de operacion. \n",
    "is_fraud=dataset_[dataset_[\"isFraud\"]==1]\n",
    "print(\"Fraudes detectados: {}\".format(is_fraud.shape[0]))"
   ]
  },
  {
   "cell_type": "code",
   "execution_count": 14,
   "metadata": {},
   "outputs": [],
   "source": [
    "#subsampleamos la parte de dataset que no tiene fraude detectado a la misma cantidad de filas \n",
    "# que el subset con fraudes\n",
    "not_fraud=dataset_[dataset_[\"isFraud\"]!=1].sample(n=8213)\n",
    "#concatenamos las dos partes y reseteamos el indice"
   ]
  },
  {
   "cell_type": "code",
   "execution_count": 15,
   "metadata": {},
   "outputs": [
    {
     "name": "stdout",
     "output_type": "stream",
     "text": [
      "1:Fraude \n",
      " 0: No es fraude \n",
      " 1    8213\n",
      "0    8213\n",
      "Name: isFraud, dtype: int64\n",
      "CASH_OUT    6974\n",
      "TRANSFER    4788\n",
      "PAYMENT     2757\n",
      "CASH_IN     1865\n",
      "DEBIT         42\n",
      "Name: type, dtype: int64\n"
     ]
    }
   ],
   "source": [
    "new_df= pd.concat([is_fraud, not_fraud], axis = 0).reset_index().drop(columns={\"index\"})\n",
    "print(\"1:Fraude \\n 0: No es fraude \\n\",new_df.isFraud.value_counts())\n",
    "print(new_df.type.value_counts())\n",
    "#Si bien vemos que Debito no está bien representado, \n",
    "# al mismo tiempo no es una variable de interés, por lo que vamos a observar mas adelante"
   ]
  },
  {
   "cell_type": "code",
   "execution_count": 16,
   "metadata": {},
   "outputs": [
    {
     "data": {
      "text/html": [
       "<div>\n",
       "<style scoped>\n",
       "    .dataframe tbody tr th:only-of-type {\n",
       "        vertical-align: middle;\n",
       "    }\n",
       "\n",
       "    .dataframe tbody tr th {\n",
       "        vertical-align: top;\n",
       "    }\n",
       "\n",
       "    .dataframe thead th {\n",
       "        text-align: right;\n",
       "    }\n",
       "</style>\n",
       "<table border=\"1\" class=\"dataframe\">\n",
       "  <thead>\n",
       "    <tr style=\"text-align: right;\">\n",
       "      <th></th>\n",
       "      <th>step</th>\n",
       "      <th>amount</th>\n",
       "      <th>oldbalanceOrg</th>\n",
       "      <th>newbalanceOrig</th>\n",
       "      <th>oldbalanceDest</th>\n",
       "      <th>newbalanceDest</th>\n",
       "      <th>isFraud</th>\n",
       "    </tr>\n",
       "  </thead>\n",
       "  <tbody>\n",
       "    <tr>\n",
       "      <th>count</th>\n",
       "      <td>16426.000000</td>\n",
       "      <td>1.642600e+04</td>\n",
       "      <td>1.642600e+04</td>\n",
       "      <td>1.642600e+04</td>\n",
       "      <td>1.642600e+04</td>\n",
       "      <td>1.642600e+04</td>\n",
       "      <td>16426.000000</td>\n",
       "    </tr>\n",
       "    <tr>\n",
       "      <th>mean</th>\n",
       "      <td>305.592049</td>\n",
       "      <td>8.232600e+05</td>\n",
       "      <td>1.258288e+06</td>\n",
       "      <td>5.418214e+05</td>\n",
       "      <td>8.479937e+05</td>\n",
       "      <td>1.275884e+06</td>\n",
       "      <td>0.500000</td>\n",
       "    </tr>\n",
       "    <tr>\n",
       "      <th>std</th>\n",
       "      <td>193.444698</td>\n",
       "      <td>1.851848e+06</td>\n",
       "      <td>3.278150e+06</td>\n",
       "      <td>2.544042e+06</td>\n",
       "      <td>3.360751e+06</td>\n",
       "      <td>3.745815e+06</td>\n",
       "      <td>0.500015</td>\n",
       "    </tr>\n",
       "    <tr>\n",
       "      <th>min</th>\n",
       "      <td>1.000000</td>\n",
       "      <td>0.000000e+00</td>\n",
       "      <td>0.000000e+00</td>\n",
       "      <td>0.000000e+00</td>\n",
       "      <td>0.000000e+00</td>\n",
       "      <td>0.000000e+00</td>\n",
       "      <td>0.000000</td>\n",
       "    </tr>\n",
       "    <tr>\n",
       "      <th>25%</th>\n",
       "      <td>161.000000</td>\n",
       "      <td>3.736835e+04</td>\n",
       "      <td>1.055300e+04</td>\n",
       "      <td>0.000000e+00</td>\n",
       "      <td>0.000000e+00</td>\n",
       "      <td>0.000000e+00</td>\n",
       "      <td>0.000000</td>\n",
       "    </tr>\n",
       "    <tr>\n",
       "      <th>50%</th>\n",
       "      <td>283.000000</td>\n",
       "      <td>1.733677e+05</td>\n",
       "      <td>1.205909e+05</td>\n",
       "      <td>0.000000e+00</td>\n",
       "      <td>0.000000e+00</td>\n",
       "      <td>1.239624e+05</td>\n",
       "      <td>0.500000</td>\n",
       "    </tr>\n",
       "    <tr>\n",
       "      <th>75%</th>\n",
       "      <td>409.000000</td>\n",
       "      <td>5.414867e+05</td>\n",
       "      <td>8.131333e+05</td>\n",
       "      <td>0.000000e+00</td>\n",
       "      <td>5.135582e+05</td>\n",
       "      <td>1.090338e+06</td>\n",
       "      <td>1.000000</td>\n",
       "    </tr>\n",
       "    <tr>\n",
       "      <th>max</th>\n",
       "      <td>743.000000</td>\n",
       "      <td>1.799231e+07</td>\n",
       "      <td>5.958504e+07</td>\n",
       "      <td>4.958504e+07</td>\n",
       "      <td>2.362305e+08</td>\n",
       "      <td>2.367265e+08</td>\n",
       "      <td>1.000000</td>\n",
       "    </tr>\n",
       "  </tbody>\n",
       "</table>\n",
       "</div>"
      ],
      "text/plain": [
       "               step        amount  oldbalanceOrg  newbalanceOrig  \\\n",
       "count  16426.000000  1.642600e+04   1.642600e+04    1.642600e+04   \n",
       "mean     305.592049  8.232600e+05   1.258288e+06    5.418214e+05   \n",
       "std      193.444698  1.851848e+06   3.278150e+06    2.544042e+06   \n",
       "min        1.000000  0.000000e+00   0.000000e+00    0.000000e+00   \n",
       "25%      161.000000  3.736835e+04   1.055300e+04    0.000000e+00   \n",
       "50%      283.000000  1.733677e+05   1.205909e+05    0.000000e+00   \n",
       "75%      409.000000  5.414867e+05   8.131333e+05    0.000000e+00   \n",
       "max      743.000000  1.799231e+07   5.958504e+07    4.958504e+07   \n",
       "\n",
       "       oldbalanceDest  newbalanceDest       isFraud  \n",
       "count    1.642600e+04    1.642600e+04  16426.000000  \n",
       "mean     8.479937e+05    1.275884e+06      0.500000  \n",
       "std      3.360751e+06    3.745815e+06      0.500015  \n",
       "min      0.000000e+00    0.000000e+00      0.000000  \n",
       "25%      0.000000e+00    0.000000e+00      0.000000  \n",
       "50%      0.000000e+00    1.239624e+05      0.500000  \n",
       "75%      5.135582e+05    1.090338e+06      1.000000  \n",
       "max      2.362305e+08    2.367265e+08      1.000000  "
      ]
     },
     "execution_count": 16,
     "metadata": {},
     "output_type": "execute_result"
    }
   ],
   "source": [
    "# Veamos que el subset nuevo tiene caracteristicas similares al original, \n",
    "# sobre todo en las columnas newBalance y monto, en la columna isFraud se observarán\n",
    "# cambios, debido al balanceo.\n",
    "new_df.describe()"
   ]
  },
  {
   "cell_type": "code",
   "execution_count": 17,
   "metadata": {},
   "outputs": [
    {
     "name": "stdout",
     "output_type": "stream",
     "text": [
      "step total de NaN 0\n",
      "type total de NaN 0\n",
      "amount total de NaN 0.0\n",
      "nameOrig total de NaN 0\n",
      "oldbalanceOrg total de NaN 0.0\n",
      "newbalanceOrig total de NaN 0.0\n",
      "nameDest total de NaN 0\n",
      "oldbalanceDest total de NaN 0.0\n",
      "newbalanceDest total de NaN 0.0\n",
      "isFraud total de NaN 0\n"
     ]
    }
   ],
   "source": [
    "# Verifiquemos que nuestro dataset no tiene Nans\n",
    "for column in dataset_:\n",
    "   count=new_df[column][new_df[column].isna()].sum()\n",
    "   print(column,\"total de NaN\",count)"
   ]
  },
  {
   "cell_type": "markdown",
   "metadata": {},
   "source": [
    "#### Se grafica scatter plot, histogram y box and wisker de daaset reducido [new_df]"
   ]
  },
  {
   "cell_type": "code",
   "execution_count": 18,
   "metadata": {},
   "outputs": [
    {
     "data": {
      "image/png": "[encoded data removed]",
      "text/plain": [
       "<Figure size 1584x720 with 9 Axes>"
      ]
     },
     "metadata": {
      "needs_background": "light"
     },
     "output_type": "display_data"
    }
   ],
   "source": [
    "# Visualizamos la distribución de cada columna, todas las columnas referidas a los montos tienen outliers\n",
    "\n",
    "def display_distributions(dataset):\n",
    "    fig = dataset.hist(xlabelsize=12, ylabelsize=12,figsize=(22,10), color='blue', bins=20)\n",
    "    [x.title.set_size(14) for x in fig.ravel()]\n",
    "    plt.tight_layout()\n",
    "    plt.show()\n",
    "display_distributions(new_df)"
   ]
  },
  {
   "cell_type": "markdown",
   "metadata": {},
   "source": [
    "#### Grafiquemos tipo de transacción antes y despues de balanceo, podemos ver que ha cambiado ligeramente la representabilidad original. Se podría trabajar mas fino, y clasificar para cada transacción por separado, arrancando desde el balanceo de datos objetivo inicial"
   ]
  },
  {
   "cell_type": "code",
   "execution_count": 19,
   "metadata": {},
   "outputs": [
    {
     "data": {
      "text/plain": [
       "<AxesSubplot:xlabel='type', ylabel='count'>"
      ]
     },
     "execution_count": 19,
     "metadata": {},
     "output_type": "execute_result"
    },
    {
     "data": {
      "image/png": "[encoded data removed]",
      "text/plain": [
       "<Figure size 432x288 with 1 Axes>"
      ]
     },
     "metadata": {
      "needs_background": "light"
     },
     "output_type": "display_data"
    }
   ],
   "source": [
    "sns.countplot(x='type',data=new_df)"
   ]
  },
  {
   "cell_type": "code",
   "execution_count": 20,
   "metadata": {},
   "outputs": [
    {
     "data": {
      "image/png": "[encoded data removed]",
      "text/plain": [
       "<Figure size 1440x576 with 2 Axes>"
      ]
     },
     "metadata": {},
     "output_type": "display_data"
    }
   ],
   "source": [
    "# Graficamos la matriz de correlación lineal. El resultado observado es el mismo para dataset \n",
    "# completo y para subset, se deja el ultimo.\n",
    "# Se puede observar muy alta correlación entre la variables de input de NewBalance y OldBalance, \n",
    "# con lo cual podemos dropear, por ejemplo oldbalance sin riezgo de perder información.\n",
    "correlation_matrix = dataset_[new_df.columns].corr().round(2)\n",
    "fig,axes = plt.subplots(1,1,figsize=(20,8))\n",
    "[t.set_color('white') for t in axes.xaxis.get_ticklabels()]\n",
    "[t.set_color('white') for t in axes.yaxis.get_ticklabels()]\n",
    "sns.heatmap(data=np.abs(correlation_matrix), annot=True,ax=axes,cmap='Greens');"
   ]
  },
  {
   "cell_type": "code",
   "execution_count": 21,
   "metadata": {},
   "outputs": [
    {
     "data": {
      "text/html": [
       "<div>\n",
       "<style scoped>\n",
       "    .dataframe tbody tr th:only-of-type {\n",
       "        vertical-align: middle;\n",
       "    }\n",
       "\n",
       "    .dataframe tbody tr th {\n",
       "        vertical-align: top;\n",
       "    }\n",
       "\n",
       "    .dataframe thead th {\n",
       "        text-align: right;\n",
       "    }\n",
       "</style>\n",
       "<table border=\"1\" class=\"dataframe\">\n",
       "  <thead>\n",
       "    <tr style=\"text-align: right;\">\n",
       "      <th></th>\n",
       "      <th>step</th>\n",
       "      <th>type</th>\n",
       "      <th>amount</th>\n",
       "      <th>nameOrig</th>\n",
       "      <th>newbalanceOrig</th>\n",
       "      <th>nameDest</th>\n",
       "      <th>newbalanceDest</th>\n",
       "      <th>isFraud</th>\n",
       "    </tr>\n",
       "  </thead>\n",
       "  <tbody>\n",
       "    <tr>\n",
       "      <th>0</th>\n",
       "      <td>1</td>\n",
       "      <td>TRANSFER</td>\n",
       "      <td>181.0</td>\n",
       "      <td>C1305486145</td>\n",
       "      <td>0.0</td>\n",
       "      <td>C553264065</td>\n",
       "      <td>0.0</td>\n",
       "      <td>1</td>\n",
       "    </tr>\n",
       "    <tr>\n",
       "      <th>1</th>\n",
       "      <td>1</td>\n",
       "      <td>CASH_OUT</td>\n",
       "      <td>181.0</td>\n",
       "      <td>C840083671</td>\n",
       "      <td>0.0</td>\n",
       "      <td>C38997010</td>\n",
       "      <td>0.0</td>\n",
       "      <td>1</td>\n",
       "    </tr>\n",
       "  </tbody>\n",
       "</table>\n",
       "</div>"
      ],
      "text/plain": [
       "   step      type  amount     nameOrig  newbalanceOrig    nameDest  \\\n",
       "0     1  TRANSFER   181.0  C1305486145             0.0  C553264065   \n",
       "1     1  CASH_OUT   181.0   C840083671             0.0   C38997010   \n",
       "\n",
       "   newbalanceDest  isFraud  \n",
       "0             0.0        1  \n",
       "1             0.0        1  "
      ]
     },
     "execution_count": 21,
     "metadata": {},
     "output_type": "execute_result"
    }
   ],
   "source": [
    "new_df_drop=new_df.drop(columns={\"oldbalanceOrg\",\"oldbalanceDest\"})\n",
    "new_df_drop.head(2)"
   ]
  },
  {
   "cell_type": "code",
   "execution_count": 243,
   "metadata": {},
   "outputs": [
    {
     "data": {
      "image/png": "[encoded data removed]",
      "text/plain": [
       "<Figure size 1584x720 with 1 Axes>"
      ]
     },
     "metadata": {
      "needs_background": "light"
     },
     "output_type": "display_data"
    }
   ],
   "source": [
    "# Visualizamos los datos de cada columna, se observa una gran cantidad de ouliers. Para este estudio especifico\n",
    "# no se tratarán los outliers, ya que pueden estar describiendo operaciones fraudulentas.\n",
    "def display_boxplot(dataset):\n",
    "    fig = dataset.boxplot(figsize=(22,10))\n",
    "    #fig.set_ylim((0, 1))\n",
    "    plt.show()\n",
    "display_boxplot(pd.DataFrame(new_df_drop))"
   ]
  },
  {
   "cell_type": "markdown",
   "metadata": {},
   "source": [
    "##### Labeling"
   ]
  },
  {
   "cell_type": "code",
   "execution_count": 56,
   "metadata": {},
   "outputs": [
    {
     "data": {
      "text/html": [
       "<div>\n",
       "<style scoped>\n",
       "    .dataframe tbody tr th:only-of-type {\n",
       "        vertical-align: middle;\n",
       "    }\n",
       "\n",
       "    .dataframe tbody tr th {\n",
       "        vertical-align: top;\n",
       "    }\n",
       "\n",
       "    .dataframe thead th {\n",
       "        text-align: right;\n",
       "    }\n",
       "</style>\n",
       "<table border=\"1\" class=\"dataframe\">\n",
       "  <thead>\n",
       "    <tr style=\"text-align: right;\">\n",
       "      <th></th>\n",
       "      <th>CASH_OUT</th>\n",
       "      <th>DEBIT</th>\n",
       "      <th>PAYMENT</th>\n",
       "      <th>TRANSFER</th>\n",
       "    </tr>\n",
       "  </thead>\n",
       "  <tbody>\n",
       "    <tr>\n",
       "      <th>0</th>\n",
       "      <td>0</td>\n",
       "      <td>0</td>\n",
       "      <td>0</td>\n",
       "      <td>1</td>\n",
       "    </tr>\n",
       "    <tr>\n",
       "      <th>1</th>\n",
       "      <td>1</td>\n",
       "      <td>0</td>\n",
       "      <td>0</td>\n",
       "      <td>0</td>\n",
       "    </tr>\n",
       "    <tr>\n",
       "      <th>2</th>\n",
       "      <td>0</td>\n",
       "      <td>0</td>\n",
       "      <td>0</td>\n",
       "      <td>1</td>\n",
       "    </tr>\n",
       "    <tr>\n",
       "      <th>3</th>\n",
       "      <td>1</td>\n",
       "      <td>0</td>\n",
       "      <td>0</td>\n",
       "      <td>0</td>\n",
       "    </tr>\n",
       "    <tr>\n",
       "      <th>4</th>\n",
       "      <td>0</td>\n",
       "      <td>0</td>\n",
       "      <td>0</td>\n",
       "      <td>1</td>\n",
       "    </tr>\n",
       "    <tr>\n",
       "      <th>...</th>\n",
       "      <td>...</td>\n",
       "      <td>...</td>\n",
       "      <td>...</td>\n",
       "      <td>...</td>\n",
       "    </tr>\n",
       "    <tr>\n",
       "      <th>16421</th>\n",
       "      <td>1</td>\n",
       "      <td>0</td>\n",
       "      <td>0</td>\n",
       "      <td>0</td>\n",
       "    </tr>\n",
       "    <tr>\n",
       "      <th>16422</th>\n",
       "      <td>0</td>\n",
       "      <td>0</td>\n",
       "      <td>0</td>\n",
       "      <td>0</td>\n",
       "    </tr>\n",
       "    <tr>\n",
       "      <th>16423</th>\n",
       "      <td>0</td>\n",
       "      <td>0</td>\n",
       "      <td>1</td>\n",
       "      <td>0</td>\n",
       "    </tr>\n",
       "    <tr>\n",
       "      <th>16424</th>\n",
       "      <td>0</td>\n",
       "      <td>0</td>\n",
       "      <td>1</td>\n",
       "      <td>0</td>\n",
       "    </tr>\n",
       "    <tr>\n",
       "      <th>16425</th>\n",
       "      <td>1</td>\n",
       "      <td>0</td>\n",
       "      <td>0</td>\n",
       "      <td>0</td>\n",
       "    </tr>\n",
       "  </tbody>\n",
       "</table>\n",
       "<p>16426 rows × 4 columns</p>\n",
       "</div>"
      ],
      "text/plain": [
       "       CASH_OUT  DEBIT  PAYMENT  TRANSFER\n",
       "0             0      0        0         1\n",
       "1             1      0        0         0\n",
       "2             0      0        0         1\n",
       "3             1      0        0         0\n",
       "4             0      0        0         1\n",
       "...         ...    ...      ...       ...\n",
       "16421         1      0        0         0\n",
       "16422         0      0        0         0\n",
       "16423         0      0        1         0\n",
       "16424         0      0        1         0\n",
       "16425         1      0        0         0\n",
       "\n",
       "[16426 rows x 4 columns]"
      ]
     },
     "execution_count": 56,
     "metadata": {},
     "output_type": "execute_result"
    }
   ],
   "source": [
    "# Codificamos la columna type\n",
    "# \n",
    "type_new = pd.get_dummies(new_df_drop['type'],drop_first=True)\n",
    "type_new"
   ]
  },
  {
   "cell_type": "code",
   "execution_count": 57,
   "metadata": {},
   "outputs": [],
   "source": [
    "# Concatenamos las columnas codificadas\n",
    "payments = pd.concat([new_df_drop,type_new],axis=1)"
   ]
  },
  {
   "cell_type": "code",
   "execution_count": 58,
   "metadata": {},
   "outputs": [
    {
     "data": {
      "text/html": [
       "<div>\n",
       "<style scoped>\n",
       "    .dataframe tbody tr th:only-of-type {\n",
       "        vertical-align: middle;\n",
       "    }\n",
       "\n",
       "    .dataframe tbody tr th {\n",
       "        vertical-align: top;\n",
       "    }\n",
       "\n",
       "    .dataframe thead th {\n",
       "        text-align: right;\n",
       "    }\n",
       "</style>\n",
       "<table border=\"1\" class=\"dataframe\">\n",
       "  <thead>\n",
       "    <tr style=\"text-align: right;\">\n",
       "      <th></th>\n",
       "      <th>step</th>\n",
       "      <th>type</th>\n",
       "      <th>amount</th>\n",
       "      <th>nameOrig</th>\n",
       "      <th>newbalanceOrig</th>\n",
       "      <th>nameDest</th>\n",
       "      <th>newbalanceDest</th>\n",
       "      <th>isFraud</th>\n",
       "      <th>CASH_OUT</th>\n",
       "      <th>DEBIT</th>\n",
       "      <th>PAYMENT</th>\n",
       "      <th>TRANSFER</th>\n",
       "    </tr>\n",
       "  </thead>\n",
       "  <tbody>\n",
       "    <tr>\n",
       "      <th>0</th>\n",
       "      <td>1</td>\n",
       "      <td>TRANSFER</td>\n",
       "      <td>181.0</td>\n",
       "      <td>C1305486145</td>\n",
       "      <td>0.0</td>\n",
       "      <td>C553264065</td>\n",
       "      <td>0.0</td>\n",
       "      <td>1</td>\n",
       "      <td>0</td>\n",
       "      <td>0</td>\n",
       "      <td>0</td>\n",
       "      <td>1</td>\n",
       "    </tr>\n",
       "    <tr>\n",
       "      <th>1</th>\n",
       "      <td>1</td>\n",
       "      <td>CASH_OUT</td>\n",
       "      <td>181.0</td>\n",
       "      <td>C840083671</td>\n",
       "      <td>0.0</td>\n",
       "      <td>C38997010</td>\n",
       "      <td>0.0</td>\n",
       "      <td>1</td>\n",
       "      <td>1</td>\n",
       "      <td>0</td>\n",
       "      <td>0</td>\n",
       "      <td>0</td>\n",
       "    </tr>\n",
       "  </tbody>\n",
       "</table>\n",
       "</div>"
      ],
      "text/plain": [
       "   step      type  amount     nameOrig  newbalanceOrig    nameDest  \\\n",
       "0     1  TRANSFER   181.0  C1305486145             0.0  C553264065   \n",
       "1     1  CASH_OUT   181.0   C840083671             0.0   C38997010   \n",
       "\n",
       "   newbalanceDest  isFraud  CASH_OUT  DEBIT  PAYMENT  TRANSFER  \n",
       "0             0.0        1         0      0        0         1  \n",
       "1             0.0        1         1      0        0         0  "
      ]
     },
     "execution_count": 58,
     "metadata": {},
     "output_type": "execute_result"
    }
   ],
   "source": [
    "payments.head(2)"
   ]
  },
  {
   "cell_type": "code",
   "execution_count": 59,
   "metadata": {},
   "outputs": [],
   "source": [
    "# Armamos nuestro vector X e y (vector objetivo). Me quedo con las operaciones que tienen \n",
    "# fraudes y no tomaré en cuenta id de usuario\n",
    "X = payments[['step','TRANSFER',\"CASH_OUT\",'amount','newbalanceOrig','newbalanceDest']]\n",
    "y = payments['isFraud']\n",
    "\n"
   ]
  },
  {
   "cell_type": "code",
   "execution_count": 60,
   "metadata": {},
   "outputs": [],
   "source": [
    "X_train, X_test, y_train, y_test = train_test_split(X, y, test_size=0.3, random_state=42)"
   ]
  },
  {
   "cell_type": "code",
   "execution_count": 61,
   "metadata": {},
   "outputs": [],
   "source": [
    "scaler = StandardScaler()\n",
    "X_train_s=scaler.fit_transform(X_train)\n",
    "X_test_s=scaler.fit_transform(X_test)"
   ]
  },
  {
   "cell_type": "code",
   "execution_count": 62,
   "metadata": {},
   "outputs": [
    {
     "name": "stdout",
     "output_type": "stream",
     "text": [
      "(6, 6)\n"
     ]
    },
    {
     "data": {
      "image/png": "[encoded data removed]",
      "text/plain": [
       "<Figure size 1008x576 with 1 Axes>"
      ]
     },
     "metadata": {
      "needs_background": "light"
     },
     "output_type": "display_data"
    }
   ],
   "source": [
    "#Con cuatro variables de este dataset se explican 95%, \n",
    "# en este caso no es recomendable aplicar una reducción por PCA\n",
    "from sklearn.decomposition import PCA\n",
    "pca_ = PCA()\n",
    "pca_.fit(X_train_s)\n",
    "print(pca_.components_.shape)\n",
    "fig,axes = plt.subplots(1,figsize=(14,8))\n",
    "plt.plot(np.cumsum(pca_.explained_variance_ratio_)); plt.title(\"Cumulative explained variance ratio\",fontsize=15);plt.grid(True);"
   ]
  },
  {
   "cell_type": "markdown",
   "metadata": {},
   "source": [
    "#### Vamos a probar como performa el aprendizaje en los modelos para este dataset"
   ]
  },
  {
   "cell_type": "markdown",
   "metadata": {},
   "source": [
    "> * El primer modelo mostrado aca, es el preferido. Se muestran todas las metricas"
   ]
  },
  {
   "cell_type": "code",
   "execution_count": 63,
   "metadata": {},
   "outputs": [
    {
     "name": "stdout",
     "output_type": "stream",
     "text": [
      "              precision    recall  f1-score   support\n",
      "\n",
      "           0       0.86      0.95      0.90      2449\n",
      "           1       0.94      0.84      0.89      2479\n",
      "\n",
      "    accuracy                           0.89      4928\n",
      "   macro avg       0.90      0.89      0.89      4928\n",
      "weighted avg       0.90      0.89      0.89      4928\n",
      "\n"
     ]
    }
   ],
   "source": [
    "# Probamos SVC e imprimimos reporte de clasificación\n",
    "clf_scv = SVC(decision_function_shape='ovo',random_state=0)\n",
    "clf_scv.fit(X_train_s, y_train)\n",
    "pred_svc = clf_scv.predict(X_test_s)\n",
    "print(classification_report(y_test,pred_svc))\n",
    "# Clase 0 precision: 0.86, recall: 0.95\n",
    "# Clase 1 precision 0.94, recall: 0.84\n",
    "#El modelo es relativamente performante"
   ]
  },
  {
   "cell_type": "code",
   "execution_count": 64,
   "metadata": {},
   "outputs": [
    {
     "data": {
      "text/plain": [
       "<AxesSubplot:>"
      ]
     },
     "execution_count": 64,
     "metadata": {},
     "output_type": "execute_result"
    },
    {
     "data": {
      "image/png": "[encoded data removed]",
      "text/plain": [
       "<Figure size 432x288 with 2 Axes>"
      ]
     },
     "metadata": {
      "needs_background": "light"
     },
     "output_type": "display_data"
    }
   ],
   "source": [
    "cm1 = confusion_matrix(y_test, pred_svc)\n",
    "sns.heatmap(cm1/np.sum(cm1), annot = True, fmt=  '0.2%', cmap = 'Reds')"
   ]
  },
  {
   "cell_type": "code",
   "execution_count": 65,
   "metadata": {},
   "outputs": [
    {
     "data": {
      "text/plain": [
       "<sklearn.metrics._plot.roc_curve.RocCurveDisplay at 0x1efde708ee0>"
      ]
     },
     "execution_count": 65,
     "metadata": {},
     "output_type": "execute_result"
    },
    {
     "data": {
      "image/png": "[encoded data removed]",
      "text/plain": [
       "<Figure size 864x576 with 1 Axes>"
      ]
     },
     "metadata": {
      "needs_background": "light"
     },
     "output_type": "display_data"
    }
   ],
   "source": [
    "fig, ax = plt.subplots(figsize=(12, 8))\n",
    "plot_roc_curve(clf_scv, X_test_s, y_test, color='darkgreen', ax=ax)\n"
   ]
  },
  {
   "cell_type": "code",
   "execution_count": 78,
   "metadata": {},
   "outputs": [
    {
     "name": "stdout",
     "output_type": "stream",
     "text": [
      "              precision    recall  f1-score   support\n",
      "\n",
      "           0       0.68      0.97      0.80      2449\n",
      "           1       0.95      0.55      0.70      2479\n",
      "\n",
      "    accuracy                           0.76      4928\n",
      "   macro avg       0.82      0.76      0.75      4928\n",
      "weighted avg       0.82      0.76      0.75      4928\n",
      "\n"
     ]
    }
   ],
   "source": [
    "# idem Random Forest, con parametros default y los puestos actualmente, \n",
    "# el modelo no performa correctamente\n",
    "clf_rf = RandomForestClassifier(criterion= 'gini', max_depth= 2, n_estimators= 100)\n",
    "clf_rf.fit(X_train_s, y_train)\n",
    "pred_rf = clf_rf.predict(X_test_s)\n",
    "print(classification_report(y_test,pred_rf))"
   ]
  },
  {
   "cell_type": "code",
   "execution_count": 67,
   "metadata": {},
   "outputs": [
    {
     "name": "stdout",
     "output_type": "stream",
     "text": [
      "              precision    recall  f1-score   support\n",
      "\n",
      "           0       0.58      0.98      0.72      2449\n",
      "           1       0.93      0.29      0.44      2479\n",
      "\n",
      "    accuracy                           0.63      4928\n",
      "   macro avg       0.75      0.63      0.58      4928\n",
      "weighted avg       0.75      0.63      0.58      4928\n",
      "\n"
     ]
    }
   ],
   "source": [
    "# idem Random Forest, con parametros default y los puestos actualmente, \n",
    "# el modelo no performa correctamente, sobreajusta\n",
    "clf_dt = DecisionTreeClassifier(max_depth=10,random_state=47)\n",
    "clf_dt.fit(X_train_s, y_train)\n",
    "pred_rf = clf_dt.predict(X_test_s)\n",
    "print(classification_report(y_test,pred_rf))\n"
   ]
  },
  {
   "cell_type": "code",
   "execution_count": 68,
   "metadata": {},
   "outputs": [
    {
     "name": "stdout",
     "output_type": "stream",
     "text": [
      "              precision    recall  f1-score   support\n",
      "\n",
      "           0       0.86      0.79      0.82      2449\n",
      "           1       0.81      0.87      0.84      2479\n",
      "\n",
      "    accuracy                           0.83      4928\n",
      "   macro avg       0.83      0.83      0.83      4928\n",
      "weighted avg       0.83      0.83      0.83      4928\n",
      "\n"
     ]
    },
    {
     "name": "stderr",
     "output_type": "stream",
     "text": [
      "c:\\Users\\54922\\anaconda3\\lib\\site-packages\\sklearn\\linear_model\\_logistic.py:1355: UserWarning: 'n_jobs' > 1 does not have any effect when 'solver' is set to 'liblinear'. Got 'n_jobs' = 20.\n",
      "  warnings.warn(\"'n_jobs' > 1 does not have any effect when\"\n"
     ]
    }
   ],
   "source": [
    "# Regresión logistica con los parametros eligidos tiene un performance aceptable\n",
    "clf_lr =LogisticRegression(max_iter=120,random_state=0, n_jobs=20, solver='liblinear')\n",
    "clf_lr.fit(X_train_s, y_train)\n",
    "pred_lr = clf_lr.predict(X_test_s)\n",
    "print(classification_report(y_test,pred_lr))\n",
    "\n",
    "\n"
   ]
  },
  {
   "cell_type": "markdown",
   "metadata": {},
   "source": [
    "#### Veamos si podemos mejorar, implementamos busqueda de hiperparametros para los modelos de prueba, usando Gridsearch y hacemos crossvalidación para el modelo definido:"
   ]
  },
  {
   "cell_type": "code",
   "execution_count": 69,
   "metadata": {},
   "outputs": [],
   "source": [
    "# Definimos una función de busqueda de hiperparametros, usando gridsearch\n",
    "def grid(model,params,X_train, y_train,X_test,y_test):\n",
    "    scores = [\"precision\"]   ##\"recall\"\n",
    "\n",
    "    for score in scores:\n",
    "        print(\"# Tuning hyper-parameters for %s\" % score)\n",
    "        print()\n",
    "\n",
    "        clf = GridSearchCV(model, params, scoring=\"%s_macro\" % score)\n",
    "        clf.fit(X_train, y_train)\n",
    "\n",
    "        print(\"Best parameters set found on development set:\")\n",
    "        print()\n",
    "        print(clf.best_params_)\n",
    "        print()\n",
    "        print(\"Grid scores on development set:\")\n",
    "        print()\n",
    "        means = clf.cv_results_[\"mean_test_score\"]\n",
    "        stds = clf.cv_results_[\"std_test_score\"]\n",
    "        for mean, std, params in zip(means, stds, clf.cv_results_[\"params\"]):\n",
    "            print(\"%0.3f (+/-%0.03f) for %r\" % (mean, std * 2, params))\n",
    "        print()\n",
    "\n",
    "        print(\"Detailed classification report:\")\n",
    "        print()\n",
    "        print(\"The model is trained on the full development set.\")\n",
    "        print(\"The scores are computed on the full evaluation set.\")\n",
    "        print()\n",
    "        y_true, y_pred = y_test, clf.predict(X_test)\n",
    "        print(classification_report(y_true, y_pred))\n",
    "        print()"
   ]
  },
  {
   "cell_type": "code",
   "execution_count": 70,
   "metadata": {},
   "outputs": [
    {
     "name": "stdout",
     "output_type": "stream",
     "text": [
      "# Tuning hyper-parameters for precision\n",
      "\n",
      "Best parameters set found on development set:\n",
      "\n",
      "{'criterion': 'entropy', 'max_depth': 12, 'min_samples_leaf': 3, 'splitter': 'best'}\n",
      "\n",
      "Grid scores on development set:\n",
      "\n",
      "0.809 (+/-0.048) for {'criterion': 'gini', 'max_depth': 2, 'min_samples_leaf': 1, 'splitter': 'best'}\n",
      "0.849 (+/-0.007) for {'criterion': 'gini', 'max_depth': 2, 'min_samples_leaf': 1, 'splitter': 'random'}\n",
      "0.809 (+/-0.048) for {'criterion': 'gini', 'max_depth': 2, 'min_samples_leaf': 3, 'splitter': 'best'}\n",
      "0.849 (+/-0.007) for {'criterion': 'gini', 'max_depth': 2, 'min_samples_leaf': 3, 'splitter': 'random'}\n",
      "0.917 (+/-0.014) for {'criterion': 'gini', 'max_depth': 7, 'min_samples_leaf': 1, 'splitter': 'best'}\n",
      "0.881 (+/-0.028) for {'criterion': 'gini', 'max_depth': 7, 'min_samples_leaf': 1, 'splitter': 'random'}\n",
      "0.916 (+/-0.014) for {'criterion': 'gini', 'max_depth': 7, 'min_samples_leaf': 3, 'splitter': 'best'}\n",
      "0.870 (+/-0.033) for {'criterion': 'gini', 'max_depth': 7, 'min_samples_leaf': 3, 'splitter': 'random'}\n",
      "0.921 (+/-0.012) for {'criterion': 'gini', 'max_depth': 12, 'min_samples_leaf': 1, 'splitter': 'best'}\n",
      "0.914 (+/-0.019) for {'criterion': 'gini', 'max_depth': 12, 'min_samples_leaf': 1, 'splitter': 'random'}\n",
      "0.920 (+/-0.012) for {'criterion': 'gini', 'max_depth': 12, 'min_samples_leaf': 3, 'splitter': 'best'}\n",
      "0.909 (+/-0.019) for {'criterion': 'gini', 'max_depth': 12, 'min_samples_leaf': 3, 'splitter': 'random'}\n",
      "0.820 (+/-0.006) for {'criterion': 'entropy', 'max_depth': 2, 'min_samples_leaf': 1, 'splitter': 'best'}\n",
      "0.853 (+/-0.016) for {'criterion': 'entropy', 'max_depth': 2, 'min_samples_leaf': 1, 'splitter': 'random'}\n",
      "0.820 (+/-0.006) for {'criterion': 'entropy', 'max_depth': 2, 'min_samples_leaf': 3, 'splitter': 'best'}\n",
      "0.851 (+/-0.009) for {'criterion': 'entropy', 'max_depth': 2, 'min_samples_leaf': 3, 'splitter': 'random'}\n",
      "0.916 (+/-0.014) for {'criterion': 'entropy', 'max_depth': 7, 'min_samples_leaf': 1, 'splitter': 'best'}\n",
      "0.883 (+/-0.033) for {'criterion': 'entropy', 'max_depth': 7, 'min_samples_leaf': 1, 'splitter': 'random'}\n",
      "0.917 (+/-0.013) for {'criterion': 'entropy', 'max_depth': 7, 'min_samples_leaf': 3, 'splitter': 'best'}\n",
      "0.878 (+/-0.029) for {'criterion': 'entropy', 'max_depth': 7, 'min_samples_leaf': 3, 'splitter': 'random'}\n",
      "0.922 (+/-0.012) for {'criterion': 'entropy', 'max_depth': 12, 'min_samples_leaf': 1, 'splitter': 'best'}\n",
      "0.917 (+/-0.018) for {'criterion': 'entropy', 'max_depth': 12, 'min_samples_leaf': 1, 'splitter': 'random'}\n",
      "0.923 (+/-0.014) for {'criterion': 'entropy', 'max_depth': 12, 'min_samples_leaf': 3, 'splitter': 'best'}\n",
      "0.912 (+/-0.010) for {'criterion': 'entropy', 'max_depth': 12, 'min_samples_leaf': 3, 'splitter': 'random'}\n",
      "\n",
      "Detailed classification report:\n",
      "\n",
      "The model is trained on the full development set.\n",
      "The scores are computed on the full evaluation set.\n",
      "\n",
      "              precision    recall  f1-score   support\n",
      "\n",
      "           0       0.60      0.97      0.74      2449\n",
      "           1       0.93      0.35      0.51      2479\n",
      "\n",
      "    accuracy                           0.66      4928\n",
      "   macro avg       0.77      0.66      0.63      4928\n",
      "weighted avg       0.77      0.66      0.63      4928\n",
      "\n",
      "\n"
     ]
    }
   ],
   "source": [
    "params_dtc = [{\"splitter\":[\"best\", \"random\"], \"criterion\": [\"gini\",\"entropy\"], \"max_depth\": range(2,17,5),\"min_samples_leaf\":[1,3]}]\n",
    "dtc=DecisionTreeClassifier()\n",
    "grid(dtc,params_dtc,X_train_s, y_train,X_test_s,y_test)\n",
    "#podemos ver que tiende a tomar mayor profundidad y sobreajustar. Conviene tomar profundidad \n",
    "# fija y ajustar demas parametros en gridsearch"
   ]
  },
  {
   "cell_type": "code",
   "execution_count": 71,
   "metadata": {},
   "outputs": [
    {
     "name": "stdout",
     "output_type": "stream",
     "text": [
      "# Tuning hyper-parameters for precision\n",
      "\n",
      "Best parameters set found on development set:\n",
      "\n",
      "{'criterion': 'entropy', 'max_depth': 12, 'n_estimators': 100}\n",
      "\n",
      "Grid scores on development set:\n",
      "\n",
      "0.869 (+/-0.012) for {'criterion': 'gini', 'max_depth': 2, 'n_estimators': 50}\n",
      "0.866 (+/-0.011) for {'criterion': 'gini', 'max_depth': 2, 'n_estimators': 100}\n",
      "0.870 (+/-0.023) for {'criterion': 'gini', 'max_depth': 2, 'n_estimators': 150}\n",
      "0.927 (+/-0.008) for {'criterion': 'gini', 'max_depth': 7, 'n_estimators': 50}\n",
      "0.926 (+/-0.006) for {'criterion': 'gini', 'max_depth': 7, 'n_estimators': 100}\n",
      "0.928 (+/-0.009) for {'criterion': 'gini', 'max_depth': 7, 'n_estimators': 150}\n",
      "0.929 (+/-0.010) for {'criterion': 'gini', 'max_depth': 12, 'n_estimators': 50}\n",
      "0.930 (+/-0.009) for {'criterion': 'gini', 'max_depth': 12, 'n_estimators': 100}\n",
      "0.930 (+/-0.008) for {'criterion': 'gini', 'max_depth': 12, 'n_estimators': 150}\n",
      "0.866 (+/-0.013) for {'criterion': 'entropy', 'max_depth': 2, 'n_estimators': 50}\n",
      "0.870 (+/-0.022) for {'criterion': 'entropy', 'max_depth': 2, 'n_estimators': 100}\n",
      "0.867 (+/-0.010) for {'criterion': 'entropy', 'max_depth': 2, 'n_estimators': 150}\n",
      "0.927 (+/-0.009) for {'criterion': 'entropy', 'max_depth': 7, 'n_estimators': 50}\n",
      "0.928 (+/-0.010) for {'criterion': 'entropy', 'max_depth': 7, 'n_estimators': 100}\n",
      "0.928 (+/-0.010) for {'criterion': 'entropy', 'max_depth': 7, 'n_estimators': 150}\n",
      "0.930 (+/-0.009) for {'criterion': 'entropy', 'max_depth': 12, 'n_estimators': 50}\n",
      "0.931 (+/-0.009) for {'criterion': 'entropy', 'max_depth': 12, 'n_estimators': 100}\n",
      "0.930 (+/-0.008) for {'criterion': 'entropy', 'max_depth': 12, 'n_estimators': 150}\n",
      "\n",
      "Detailed classification report:\n",
      "\n",
      "The model is trained on the full development set.\n",
      "The scores are computed on the full evaluation set.\n",
      "\n",
      "              precision    recall  f1-score   support\n",
      "\n",
      "           0       0.59      1.00      0.74      2449\n",
      "           1       1.00      0.32      0.49      2479\n",
      "\n",
      "    accuracy                           0.66      4928\n",
      "   macro avg       0.80      0.66      0.62      4928\n",
      "weighted avg       0.80      0.66      0.61      4928\n",
      "\n",
      "\n"
     ]
    }
   ],
   "source": [
    "params_rfc = [{\"n_estimators\": range(50,200,50), \"criterion\": [\"gini\",\"entropy\"], \"max_depth\": range(2,17,5)}]\n",
    "rfc=RandomForestClassifier()\n",
    "grid(rfc,params_rfc,X_train_s, y_train,X_test_s,y_test)\n",
    "#pasa lo mismo que en caso de decision tree"
   ]
  },
  {
   "cell_type": "code",
   "execution_count": 72,
   "metadata": {},
   "outputs": [
    {
     "name": "stdout",
     "output_type": "stream",
     "text": [
      "# Tuning hyper-parameters for precision\n",
      "\n",
      "Best parameters set found on development set:\n",
      "\n",
      "{'C': 1000, 'gamma': 0.001, 'kernel': 'rbf'}\n",
      "\n",
      "Grid scores on development set:\n",
      "\n",
      "0.845 (+/-0.010) for {'C': 1, 'gamma': 0.001, 'kernel': 'rbf'}\n",
      "0.844 (+/-0.005) for {'C': 1, 'gamma': 0.001, 'kernel': 'sigmoid'}\n",
      "0.823 (+/-0.021) for {'C': 1, 'gamma': 0.0001, 'kernel': 'rbf'}\n",
      "0.796 (+/-0.017) for {'C': 1, 'gamma': 0.0001, 'kernel': 'sigmoid'}\n",
      "0.839 (+/-0.012) for {'C': 10, 'gamma': 0.001, 'kernel': 'rbf'}\n",
      "0.834 (+/-0.015) for {'C': 10, 'gamma': 0.001, 'kernel': 'sigmoid'}\n",
      "0.846 (+/-0.008) for {'C': 10, 'gamma': 0.0001, 'kernel': 'rbf'}\n",
      "0.845 (+/-0.005) for {'C': 10, 'gamma': 0.0001, 'kernel': 'sigmoid'}\n",
      "0.860 (+/-0.015) for {'C': 100, 'gamma': 0.001, 'kernel': 'rbf'}\n",
      "0.845 (+/-0.016) for {'C': 100, 'gamma': 0.001, 'kernel': 'sigmoid'}\n",
      "0.836 (+/-0.014) for {'C': 100, 'gamma': 0.0001, 'kernel': 'rbf'}\n",
      "0.834 (+/-0.015) for {'C': 100, 'gamma': 0.0001, 'kernel': 'sigmoid'}\n",
      "0.883 (+/-0.011) for {'C': 1000, 'gamma': 0.001, 'kernel': 'rbf'}\n",
      "0.847 (+/-0.017) for {'C': 1000, 'gamma': 0.001, 'kernel': 'sigmoid'}\n",
      "0.848 (+/-0.015) for {'C': 1000, 'gamma': 0.0001, 'kernel': 'rbf'}\n",
      "0.844 (+/-0.015) for {'C': 1000, 'gamma': 0.0001, 'kernel': 'sigmoid'}\n",
      "\n",
      "Detailed classification report:\n",
      "\n",
      "The model is trained on the full development set.\n",
      "The scores are computed on the full evaluation set.\n",
      "\n",
      "              precision    recall  f1-score   support\n",
      "\n",
      "           0       0.84      0.94      0.89      2449\n",
      "           1       0.93      0.83      0.88      2479\n",
      "\n",
      "    accuracy                           0.88      4928\n",
      "   macro avg       0.89      0.88      0.88      4928\n",
      "weighted avg       0.89      0.88      0.88      4928\n",
      "\n",
      "\n"
     ]
    }
   ],
   "source": [
    "import warnings\n",
    "warnings.simplefilter(action='ignore', category=FutureWarning) \n",
    "params_svc = [{\"kernel\": [\"rbf\",\"sigmoid\"], \"gamma\": [1e-3, 1e-4], \"C\": [1, 10, 100, 1000]}]\n",
    "svc=SVC()\n",
    "grid(svc,params_svc,X_train_s, y_train,X_test_s,y_test)\n",
    "#probamos estos parametros para modelo de scv, para ver si mejoran el modelo anterior"
   ]
  },
  {
   "cell_type": "code",
   "execution_count": 73,
   "metadata": {},
   "outputs": [
    {
     "name": "stdout",
     "output_type": "stream",
     "text": [
      "# Tuning hyper-parameters for precision\n",
      "\n"
     ]
    },
    {
     "name": "stderr",
     "output_type": "stream",
     "text": [
      "c:\\Users\\54922\\anaconda3\\lib\\site-packages\\sklearn\\linear_model\\_sag.py:328: ConvergenceWarning: The max_iter was reached which means the coef_ did not converge\n",
      "  warnings.warn(\"The max_iter was reached which means \"\n",
      "c:\\Users\\54922\\anaconda3\\lib\\site-packages\\sklearn\\linear_model\\_sag.py:328: ConvergenceWarning: The max_iter was reached which means the coef_ did not converge\n",
      "  warnings.warn(\"The max_iter was reached which means \"\n",
      "c:\\Users\\54922\\anaconda3\\lib\\site-packages\\sklearn\\linear_model\\_sag.py:328: ConvergenceWarning: The max_iter was reached which means the coef_ did not converge\n",
      "  warnings.warn(\"The max_iter was reached which means \"\n",
      "c:\\Users\\54922\\anaconda3\\lib\\site-packages\\sklearn\\linear_model\\_sag.py:328: ConvergenceWarning: The max_iter was reached which means the coef_ did not converge\n",
      "  warnings.warn(\"The max_iter was reached which means \"\n",
      "c:\\Users\\54922\\anaconda3\\lib\\site-packages\\sklearn\\linear_model\\_sag.py:328: ConvergenceWarning: The max_iter was reached which means the coef_ did not converge\n",
      "  warnings.warn(\"The max_iter was reached which means \"\n",
      "c:\\Users\\54922\\anaconda3\\lib\\site-packages\\sklearn\\linear_model\\_sag.py:328: ConvergenceWarning: The max_iter was reached which means the coef_ did not converge\n",
      "  warnings.warn(\"The max_iter was reached which means \"\n",
      "c:\\Users\\54922\\anaconda3\\lib\\site-packages\\sklearn\\linear_model\\_sag.py:328: ConvergenceWarning: The max_iter was reached which means the coef_ did not converge\n",
      "  warnings.warn(\"The max_iter was reached which means \"\n",
      "c:\\Users\\54922\\anaconda3\\lib\\site-packages\\sklearn\\linear_model\\_sag.py:328: ConvergenceWarning: The max_iter was reached which means the coef_ did not converge\n",
      "  warnings.warn(\"The max_iter was reached which means \"\n",
      "c:\\Users\\54922\\anaconda3\\lib\\site-packages\\sklearn\\linear_model\\_sag.py:328: ConvergenceWarning: The max_iter was reached which means the coef_ did not converge\n",
      "  warnings.warn(\"The max_iter was reached which means \"\n",
      "c:\\Users\\54922\\anaconda3\\lib\\site-packages\\sklearn\\linear_model\\_sag.py:328: ConvergenceWarning: The max_iter was reached which means the coef_ did not converge\n",
      "  warnings.warn(\"The max_iter was reached which means \"\n",
      "c:\\Users\\54922\\anaconda3\\lib\\site-packages\\sklearn\\linear_model\\_sag.py:328: ConvergenceWarning: The max_iter was reached which means the coef_ did not converge\n",
      "  warnings.warn(\"The max_iter was reached which means \"\n",
      "c:\\Users\\54922\\anaconda3\\lib\\site-packages\\sklearn\\linear_model\\_sag.py:328: ConvergenceWarning: The max_iter was reached which means the coef_ did not converge\n",
      "  warnings.warn(\"The max_iter was reached which means \"\n",
      "c:\\Users\\54922\\anaconda3\\lib\\site-packages\\sklearn\\linear_model\\_sag.py:328: ConvergenceWarning: The max_iter was reached which means the coef_ did not converge\n",
      "  warnings.warn(\"The max_iter was reached which means \"\n",
      "c:\\Users\\54922\\anaconda3\\lib\\site-packages\\sklearn\\linear_model\\_sag.py:328: ConvergenceWarning: The max_iter was reached which means the coef_ did not converge\n",
      "  warnings.warn(\"The max_iter was reached which means \"\n",
      "c:\\Users\\54922\\anaconda3\\lib\\site-packages\\sklearn\\linear_model\\_sag.py:328: ConvergenceWarning: The max_iter was reached which means the coef_ did not converge\n",
      "  warnings.warn(\"The max_iter was reached which means \"\n",
      "c:\\Users\\54922\\anaconda3\\lib\\site-packages\\sklearn\\linear_model\\_sag.py:328: ConvergenceWarning: The max_iter was reached which means the coef_ did not converge\n",
      "  warnings.warn(\"The max_iter was reached which means \"\n",
      "c:\\Users\\54922\\anaconda3\\lib\\site-packages\\sklearn\\linear_model\\_sag.py:328: ConvergenceWarning: The max_iter was reached which means the coef_ did not converge\n",
      "  warnings.warn(\"The max_iter was reached which means \"\n",
      "c:\\Users\\54922\\anaconda3\\lib\\site-packages\\sklearn\\linear_model\\_sag.py:328: ConvergenceWarning: The max_iter was reached which means the coef_ did not converge\n",
      "  warnings.warn(\"The max_iter was reached which means \"\n",
      "c:\\Users\\54922\\anaconda3\\lib\\site-packages\\sklearn\\linear_model\\_sag.py:328: ConvergenceWarning: The max_iter was reached which means the coef_ did not converge\n",
      "  warnings.warn(\"The max_iter was reached which means \"\n",
      "c:\\Users\\54922\\anaconda3\\lib\\site-packages\\sklearn\\linear_model\\_sag.py:328: ConvergenceWarning: The max_iter was reached which means the coef_ did not converge\n",
      "  warnings.warn(\"The max_iter was reached which means \"\n",
      "c:\\Users\\54922\\anaconda3\\lib\\site-packages\\sklearn\\linear_model\\_sag.py:328: ConvergenceWarning: The max_iter was reached which means the coef_ did not converge\n",
      "  warnings.warn(\"The max_iter was reached which means \"\n",
      "c:\\Users\\54922\\anaconda3\\lib\\site-packages\\sklearn\\linear_model\\_sag.py:328: ConvergenceWarning: The max_iter was reached which means the coef_ did not converge\n",
      "  warnings.warn(\"The max_iter was reached which means \"\n",
      "c:\\Users\\54922\\anaconda3\\lib\\site-packages\\sklearn\\linear_model\\_sag.py:328: ConvergenceWarning: The max_iter was reached which means the coef_ did not converge\n",
      "  warnings.warn(\"The max_iter was reached which means \"\n",
      "c:\\Users\\54922\\anaconda3\\lib\\site-packages\\sklearn\\linear_model\\_sag.py:328: ConvergenceWarning: The max_iter was reached which means the coef_ did not converge\n",
      "  warnings.warn(\"The max_iter was reached which means \"\n",
      "c:\\Users\\54922\\anaconda3\\lib\\site-packages\\sklearn\\linear_model\\_sag.py:328: ConvergenceWarning: The max_iter was reached which means the coef_ did not converge\n",
      "  warnings.warn(\"The max_iter was reached which means \"\n",
      "c:\\Users\\54922\\anaconda3\\lib\\site-packages\\sklearn\\linear_model\\_sag.py:328: ConvergenceWarning: The max_iter was reached which means the coef_ did not converge\n",
      "  warnings.warn(\"The max_iter was reached which means \"\n",
      "c:\\Users\\54922\\anaconda3\\lib\\site-packages\\sklearn\\linear_model\\_sag.py:328: ConvergenceWarning: The max_iter was reached which means the coef_ did not converge\n",
      "  warnings.warn(\"The max_iter was reached which means \"\n",
      "c:\\Users\\54922\\anaconda3\\lib\\site-packages\\sklearn\\linear_model\\_sag.py:328: ConvergenceWarning: The max_iter was reached which means the coef_ did not converge\n",
      "  warnings.warn(\"The max_iter was reached which means \"\n",
      "c:\\Users\\54922\\anaconda3\\lib\\site-packages\\sklearn\\linear_model\\_sag.py:328: ConvergenceWarning: The max_iter was reached which means the coef_ did not converge\n",
      "  warnings.warn(\"The max_iter was reached which means \"\n",
      "c:\\Users\\54922\\anaconda3\\lib\\site-packages\\sklearn\\linear_model\\_sag.py:328: ConvergenceWarning: The max_iter was reached which means the coef_ did not converge\n",
      "  warnings.warn(\"The max_iter was reached which means \"\n",
      "c:\\Users\\54922\\anaconda3\\lib\\site-packages\\sklearn\\linear_model\\_sag.py:328: ConvergenceWarning: The max_iter was reached which means the coef_ did not converge\n",
      "  warnings.warn(\"The max_iter was reached which means \"\n",
      "c:\\Users\\54922\\anaconda3\\lib\\site-packages\\sklearn\\linear_model\\_sag.py:328: ConvergenceWarning: The max_iter was reached which means the coef_ did not converge\n",
      "  warnings.warn(\"The max_iter was reached which means \"\n",
      "c:\\Users\\54922\\anaconda3\\lib\\site-packages\\sklearn\\linear_model\\_sag.py:328: ConvergenceWarning: The max_iter was reached which means the coef_ did not converge\n",
      "  warnings.warn(\"The max_iter was reached which means \"\n",
      "c:\\Users\\54922\\anaconda3\\lib\\site-packages\\sklearn\\linear_model\\_sag.py:328: ConvergenceWarning: The max_iter was reached which means the coef_ did not converge\n",
      "  warnings.warn(\"The max_iter was reached which means \"\n",
      "c:\\Users\\54922\\anaconda3\\lib\\site-packages\\sklearn\\linear_model\\_sag.py:328: ConvergenceWarning: The max_iter was reached which means the coef_ did not converge\n",
      "  warnings.warn(\"The max_iter was reached which means \"\n",
      "c:\\Users\\54922\\anaconda3\\lib\\site-packages\\sklearn\\linear_model\\_sag.py:328: ConvergenceWarning: The max_iter was reached which means the coef_ did not converge\n",
      "  warnings.warn(\"The max_iter was reached which means \"\n",
      "c:\\Users\\54922\\anaconda3\\lib\\site-packages\\sklearn\\linear_model\\_sag.py:328: ConvergenceWarning: The max_iter was reached which means the coef_ did not converge\n",
      "  warnings.warn(\"The max_iter was reached which means \"\n",
      "c:\\Users\\54922\\anaconda3\\lib\\site-packages\\sklearn\\linear_model\\_sag.py:328: ConvergenceWarning: The max_iter was reached which means the coef_ did not converge\n",
      "  warnings.warn(\"The max_iter was reached which means \"\n",
      "c:\\Users\\54922\\anaconda3\\lib\\site-packages\\sklearn\\linear_model\\_sag.py:328: ConvergenceWarning: The max_iter was reached which means the coef_ did not converge\n",
      "  warnings.warn(\"The max_iter was reached which means \"\n",
      "c:\\Users\\54922\\anaconda3\\lib\\site-packages\\sklearn\\linear_model\\_sag.py:328: ConvergenceWarning: The max_iter was reached which means the coef_ did not converge\n",
      "  warnings.warn(\"The max_iter was reached which means \"\n"
     ]
    },
    {
     "name": "stdout",
     "output_type": "stream",
     "text": [
      "Best parameters set found on development set:\n",
      "\n",
      "{'C': 10, 'solver': 'newton-cg'}\n",
      "\n",
      "Grid scores on development set:\n",
      "\n",
      "0.840 (+/-0.016) for {'C': 1, 'solver': 'newton-cg'}\n",
      "0.840 (+/-0.016) for {'C': 1, 'solver': 'lbfgs'}\n",
      "0.840 (+/-0.016) for {'C': 1, 'solver': 'liblinear'}\n",
      "0.840 (+/-0.016) for {'C': 1, 'solver': 'sag'}\n",
      "0.840 (+/-0.016) for {'C': 1, 'solver': 'saga'}\n",
      "0.841 (+/-0.016) for {'C': 10, 'solver': 'newton-cg'}\n",
      "0.841 (+/-0.016) for {'C': 10, 'solver': 'lbfgs'}\n",
      "0.841 (+/-0.016) for {'C': 10, 'solver': 'liblinear'}\n",
      "0.840 (+/-0.015) for {'C': 10, 'solver': 'sag'}\n",
      "0.840 (+/-0.015) for {'C': 10, 'solver': 'saga'}\n",
      "0.841 (+/-0.016) for {'C': 100, 'solver': 'newton-cg'}\n",
      "0.841 (+/-0.016) for {'C': 100, 'solver': 'lbfgs'}\n",
      "0.841 (+/-0.016) for {'C': 100, 'solver': 'liblinear'}\n",
      "0.840 (+/-0.015) for {'C': 100, 'solver': 'sag'}\n",
      "0.840 (+/-0.015) for {'C': 100, 'solver': 'saga'}\n",
      "0.841 (+/-0.016) for {'C': 1000, 'solver': 'newton-cg'}\n",
      "0.841 (+/-0.016) for {'C': 1000, 'solver': 'lbfgs'}\n",
      "0.841 (+/-0.016) for {'C': 1000, 'solver': 'liblinear'}\n",
      "0.840 (+/-0.015) for {'C': 1000, 'solver': 'sag'}\n",
      "0.840 (+/-0.015) for {'C': 1000, 'solver': 'saga'}\n",
      "\n",
      "Detailed classification report:\n",
      "\n",
      "The model is trained on the full development set.\n",
      "The scores are computed on the full evaluation set.\n",
      "\n",
      "              precision    recall  f1-score   support\n",
      "\n",
      "           0       0.86      0.79      0.82      2449\n",
      "           1       0.81      0.87      0.84      2479\n",
      "\n",
      "    accuracy                           0.83      4928\n",
      "   macro avg       0.83      0.83      0.83      4928\n",
      "weighted avg       0.83      0.83      0.83      4928\n",
      "\n",
      "\n"
     ]
    }
   ],
   "source": [
    "params_lrc = [{\"solver\":[\"newton-cg\", \"lbfgs\", \"liblinear\", \"sag\", \"saga\"], \"C\": [1, 10, 100, 1000]}]\n",
    "lrc=LogisticRegression()\n",
    "grid(lrc,params_lrc,X_train_s, y_train,X_test_s,y_test)\n",
    "\n"
   ]
  },
  {
   "cell_type": "markdown",
   "metadata": {},
   "source": [
    "#### Hasta el momento vimos que el mejor performance tiene SCV, esto no quiere decir que Random Forest no pueda ser implementado, solo se tienen que buscar parametros que eviten sobreajuste,probamos los nuevos parametros para ver SCV:"
   ]
  },
  {
   "cell_type": "code",
   "execution_count": 76,
   "metadata": {},
   "outputs": [
    {
     "name": "stdout",
     "output_type": "stream",
     "text": [
      "              precision    recall  f1-score   support\n",
      "\n",
      "           0       0.84      0.94      0.89      2449\n",
      "           1       0.93      0.83      0.88      2479\n",
      "\n",
      "    accuracy                           0.88      4928\n",
      "   macro avg       0.89      0.88      0.88      4928\n",
      "weighted avg       0.89      0.88      0.88      4928\n",
      "\n"
     ]
    }
   ],
   "source": [
    "clf_scv_2 = SVC(random_state=0,C= 1000, gamma= 0.001, kernel= \"rbf\")\n",
    "clf_scv_2.fit(X_train_s, y_train)\n",
    "pred_svc_2 = clf_scv_2.predict(X_test_s)\n",
    "print(classification_report(y_test,pred_svc_2))\n",
    "#Podemos ver que el modelo anterior de SCV, sigue siendo bien performante"
   ]
  },
  {
   "cell_type": "markdown",
   "metadata": {},
   "source": [
    "#### Prueba de Cross Validación "
   ]
  },
  {
   "cell_type": "code",
   "execution_count": 77,
   "metadata": {},
   "outputs": [
    {
     "name": "stdout",
     "output_type": "stream",
     "text": [
      "modelo: SVC(decision_function_shape='ovo', random_state=0)\n",
      "n_splits:  2 \n",
      " Accuracy: 0.894 (0.005)\n",
      "n_splits:  3 \n",
      " Accuracy: 0.895 (0.008)\n",
      "n_splits:  4 \n",
      " Accuracy: 0.895 (0.006)\n",
      "n_splits:  5 \n",
      " Accuracy: 0.895 (0.009)\n",
      "n_splits:  6 \n",
      " Accuracy: 0.896 (0.011)\n"
     ]
    }
   ],
   "source": [
    "# no se observa mejora de metrica\n",
    "model = SVC(decision_function_shape='ovo',random_state=0)\n",
    "print(\"modelo:\",model)\n",
    "for k in range(2,7):\n",
    "    cv = KFold(n_splits=k, random_state=1, shuffle=True)\n",
    "    # evaluate model\n",
    "    scores = cross_val_score(model, X_train_s, y_train, scoring='accuracy', cv=cv, n_jobs=-1)\n",
    "    # report performance\n",
    "    print(\"n_splits: \",k,'\\n Accuracy: %.3f (%.3f)' % (np.mean(scores), np.std(scores)))"
   ]
  },
  {
   "cell_type": "code",
   "execution_count": null,
   "metadata": {},
   "outputs": [],
   "source": []
  }
 ],
 "metadata": {
  "interpreter": {
   "hash": "3eed02be983c49f5f395619cd37899b328088948fdab1e3fff682af3c98323cc"
  },
  "kernelspec": {
   "display_name": "Python 3.9.7 ('base')",
   "language": "python",
   "name": "python3"
  },
  "language_info": {
   "codemirror_mode": {
    "name": "ipython",
    "version": 3
   },
   "file_extension": ".py",
   "mimetype": "text/x-python",
   "name": "python",
   "nbconvert_exporter": "python",
   "pygments_lexer": "ipython3",
   "version": "3.9.7"
  },
  "orig_nbformat": 4
 },
 "nbformat": 4,
 "nbformat_minor": 2
}
